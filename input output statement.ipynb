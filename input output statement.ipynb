{
 "cells": [
  {
   "cell_type": "code",
   "execution_count": 3,
   "metadata": {},
   "outputs": [
    {
     "name": "stdout",
     "output_type": "stream",
     "text": [
      "Enter Ist number :23\n",
      "Enter 2nd number :34\n",
      "sum is : 57\n"
     ]
    }
   ],
   "source": [
    "# write a program to read 2 numbers from keyboard and print sum\n",
    "a=int(input(\"Enter Ist number :\"))\n",
    "b=int(input(\"Enter 2nd number :\"))\n",
    "print (\"sum is :\",a+b)"
   ]
  },
  {
   "cell_type": "code",
   "execution_count": 5,
   "metadata": {},
   "outputs": [
    {
     "name": "stdout",
     "output_type": "stream",
     "text": [
      "Enter Employee No :34\n",
      "Enter Employee Name :ram\n",
      "Enter employee salary :34000\n",
      "Employee Married?f\n"
     ]
    }
   ],
   "source": [
    "# write a program to read employees data from the keyboard and print the data\n",
    "eno=int(input(\"Enter Employee No :\"))\n",
    "ename=input(\"Enter Employee Name :\")\n",
    "esalary=float(input(\"Enter employee salary :\"))\n",
    "married=bool(input(\"Employee Married?\"))"
   ]
  },
  {
   "cell_type": "code",
   "execution_count": 10,
   "metadata": {},
   "outputs": [
    {
     "name": "stdout",
     "output_type": "stream",
     "text": [
      "Enter 2 values3 4\n",
      "product is : 12\n"
     ]
    }
   ],
   "source": [
    "# how to read multiple values from the keyboard in a single line\n",
    "a,b=[int(x)for x in input(\"Enter 2 values :\").split()]\n",
    "print(\"product is :\",a*b)"
   ]
  },
  {
   "cell_type": "code",
   "execution_count": 11,
   "metadata": {},
   "outputs": [
    {
     "data": {
      "text/plain": [
       "63"
      ]
     },
     "execution_count": 11,
     "metadata": {},
     "output_type": "execute_result"
    }
   ],
   "source": [
    "# eval() take a string and evaluate the result\n",
    "eval('10+23+30')"
   ]
  },
  {
   "cell_type": "code",
   "execution_count": 13,
   "metadata": {},
   "outputs": [
    {
     "name": "stdout",
     "output_type": "stream",
     "text": [
      "Hello\n",
      "Durga\n"
     ]
    }
   ],
   "source": [
    "print(\"Hello\")\n",
    "print(\"Durga\")"
   ]
  },
  {
   "cell_type": "code",
   "execution_count": 15,
   "metadata": {},
   "outputs": [
    {
     "name": "stdout",
     "output_type": "stream",
     "text": [
      "Hello Durga "
     ]
    }
   ],
   "source": [
    "print(\"Hello\",end=' ')\n",
    "print(\"Durga\",end=' ')"
   ]
  },
  {
   "cell_type": "code",
   "execution_count": 17,
   "metadata": {},
   "outputs": [
    {
     "name": "stdout",
     "output_type": "stream",
     "text": [
      "Hello Durga your salary is 10000 and Girl friend Sunny is waiting\n"
     ]
    }
   ],
   "source": [
    "Name=\"Durga\"\n",
    "Salary=10000\n",
    "GF=\"Sunny\"\n",
    "print(\"Hello {0} your salary is {1} and Girl friend {2} is waiting\".format(Name,Salary,GF))"
   ]
  },
  {
   "cell_type": "code",
   "execution_count": null,
   "metadata": {},
   "outputs": [],
   "source": []
  }
 ],
 "metadata": {
  "kernelspec": {
   "display_name": "Python 3",
   "language": "python",
   "name": "python3"
  },
  "language_info": {
   "codemirror_mode": {
    "name": "ipython",
    "version": 3
   },
   "file_extension": ".py",
   "mimetype": "text/x-python",
   "name": "python",
   "nbconvert_exporter": "python",
   "pygments_lexer": "ipython3",
   "version": "3.7.3"
  }
 },
 "nbformat": 4,
 "nbformat_minor": 2
}
